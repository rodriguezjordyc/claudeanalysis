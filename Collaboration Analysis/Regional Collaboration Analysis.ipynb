{
 "cells": [
  {
   "cell_type": "markdown",
   "id": "intro-header",
   "metadata": {},
   "source": [
    "# Regional Collaboration Analysis\n",
    "\n",
    "Comparative analysis of human-AI collaboration patterns across global regions, focusing on how users interact with Claude for different types of assistance."
   ]
  },
  {
   "cell_type": "code",
   "execution_count": null,
   "id": "setup-imports",
   "metadata": {},
   "outputs": [],
   "source": [
    "# Install and import required packages\n",
    "import subprocess\n",
    "import sys\n",
    "\n",
    "packages = ['pandas', 'numpy', 'matplotlib', 'seaborn']\n",
    "\n",
    "for package in packages:\n",
    "    try:\n",
    "        __import__(package)\n",
    "        print(f\"✓ {package} already installed\")\n",
    "    except ImportError:\n",
    "        print(f\"Installing {package}...\")\n",
    "        subprocess.check_call([sys.executable, '-m', 'pip', 'install', package])\n",
    "\n",
    "print(\"Package installation complete!\")\n",
    "\n",
    "# Import all required libraries\n",
    "import pandas as pd\n",
    "import numpy as np\n",
    "import matplotlib.pyplot as plt\n",
    "import seaborn as sns\n",
    "\n",
    "# Set up plotting style (consistent with Software Request Analysis)\n",
    "plt.style.use('default')\n",
    "sns.set_palette(\"husl\")\n",
    "\n",
    "# Load the collaboration analysis dataset\n",
    "df = pd.read_csv('regional_collaboration_analysis.csv')\n",
    "\n",
    "print(f\"Dataset shape: {df.shape}\")\n",
    "print(f\"Available regions: {sorted(df['region'].unique())}\")\n",
    "print(f\"Available variables: {sorted(df['variable'].unique())}\")\n",
    "print(f\"Collaboration patterns: {sorted(df[df['variable'] == 'collaboration_count']['cluster_name'].unique())}\")"
   ]
  },
  {
   "cell_type": "markdown",
   "id": "overview-section",
   "metadata": {},
   "source": [
    "## Data Overview\n",
    "\n",
    "This analysis examines collaboration patterns across **6 global regions** using **7 distinct collaboration types**. The data is sourced from raw country-level usage data (claude.csv) and aggregated by region with accurate percentage calculations.\n",
    "\n",
    "**Key Research Question**: How do human-AI collaboration patterns vary across different global regions, and what do these patterns reveal about regional user behavior and preferences?"
   ]
  },
  {
   "cell_type": "markdown",
   "id": "main-chart-section",
   "metadata": {},
   "source": [
    "## Regional Collaboration Patterns Comparison"
   ]
  },
  {
   "cell_type": "code",
   "execution_count": null,
   "id": "main-collaboration-chart",
   "metadata": {},
   "outputs": [],
   "source": "# Regional Collaboration Patterns Comparison\n# Set custom font and style (consistent with Software Request Analysis)\nplt.rcParams['font.family'] = 'serif'\nplt.rcParams['font.size'] = 11\n\n# Define regions and colors (exact match with Software Request Analysis)\nregions = ['North America', 'Latin America', 'Europe', 'Middle East & Africa', 'APAC']\nregional_colors = ['#2E86AB', '#A23B72', '#F18F01', '#C73E1D', '#5C946E']  # Exact same colors\n\n# Define collaboration patterns in logical order (excluding not_classified)\ncollaboration_order = [\n    'directive',\n    'feedback loop',\n    'task iteration', \n    'learning',\n    'validation',\n    'none'\n]\n\ncollaboration_labels = [\n    'Directive',\n    'Feedback\\nLoop',\n    'Task\\nIteration',\n    'Learning', \n    'Validation',\n    'None'\n]\n\n# Collect data for all regions\nregional_data = {}\nfor region in regions:\n    region_pct = df[(df['region'] == region) & (df['variable'] == 'collaboration_pct')]\n    \n    percentages = []\n    for pattern in collaboration_order:\n        pattern_pct = region_pct[region_pct['cluster_name'] == pattern]['value'].values\n        percentage = float(pattern_pct[0]) if len(pattern_pct) > 0 else 0.0\n        percentages.append(percentage)\n    \n    regional_data[region] = percentages\n\n# Create grouped bar chart\nfig, ax = plt.subplots(figsize=(16, 10))\n\n# Set up bar positions\nx = np.arange(len(collaboration_labels))\nwidth = 0.15  # Width of each bar\nbar_positions = []\n\n# Calculate positions for each region\nfor i, region in enumerate(regions):\n    positions = x + (i - 2) * width  # Center the bars around x\n    bar_positions.append(positions)\n\n# Plot bars for each region\nbars = []\nfor i, region in enumerate(regions):\n    bars.append(ax.bar(bar_positions[i], regional_data[region], width, \n                      label=region, color=regional_colors[i], \n                      edgecolor='black', linewidth=0.8, alpha=0.8))\n\n# Customize the chart\nax.set_title('Human-AI Collaboration Patterns by Region\\nComparative Analysis', \n             fontsize=20, fontweight='bold', pad=30, family='serif')\nax.set_xlabel('Collaboration Pattern Type', fontsize=14, fontweight='bold', family='serif')\nax.set_ylabel('Percentage of Total Interactions (%)', fontsize=14, fontweight='bold', family='serif')\n\n# Set x-axis\nax.set_xticks(x)\nax.set_xticklabels(collaboration_labels, fontsize=12, family='serif')\nax.tick_params(axis='y', labelsize=11)\n\n# Add grid for easier reading\nax.grid(axis='y', alpha=0.3, linestyle='--')\nax.set_axisbelow(True)\n\n# Add percentage labels on top of bars\nfor i, region in enumerate(regions):\n    for j, percentage in enumerate(regional_data[region]):\n        height = percentage\n        ax.text(bar_positions[i][j], height + 0.5, f'{percentage:.1f}%',\n                ha='center', va='bottom', fontsize=9, fontweight='bold',\n                color=regional_colors[i], family='serif')\n\n# Add legend positioned on the right side\nlegend = ax.legend(title='Region', loc='upper right', frameon=True,\n                  fancybox=True, shadow=True, fontsize=11, title_fontsize=12,\n                  bbox_to_anchor=(0.98, 0.98))\nlegend.get_frame().set_facecolor('white')\nlegend.get_frame().set_alpha(0.9)\n\n# Style the frame\nfor spine in ax.spines.values():\n    spine.set_linewidth(1.2)\nax.spines['top'].set_visible(False)\nax.spines['right'].set_visible(False)\n\n# Set y-axis limit for better visualization (extra space for percentage labels)\nmax_percentage = max([max(percentages) for percentages in regional_data.values()])\nax.set_ylim(0, max_percentage + 8)\n\nplt.tight_layout()\nplt.show()\n\n# Print detailed comparison table\nprint(f\"\\n{'='*100}\")\nprint(f\"📊 REGIONAL COLLABORATION PATTERNS COMPARISON\")\nprint(f\"{'='*100}\")\nprint(f\"{'Pattern':<15} {'N. America':<12} {'Latin Am.':<12} {'Europe':<12} {'MEA':<12} {'APAC':<12}\")\nprint(\"-\" * 100)\n\nfor i, pattern in enumerate(collaboration_labels):\n    pattern_clean = pattern.replace('\\n', ' ')\n    row = f\"{pattern_clean:<15}\"\n    for region in regions:\n        percentage = regional_data[region][i]\n        row += f\"{percentage:>10.1f}%  \"\n    print(row)\n\nprint(f\"\\n🔍 Key Regional Observations:\")\nprint(f\"• Directive pattern: Most dominant collaboration type across all regions\")\nprint(f\"• Task Iteration: Strong secondary pattern in most regions\")\nprint(f\"• Learning: Significant regional variation in educational collaboration\")\nprint(f\"• Regional preferences suggest different user sophistication and needs\")\nprint(f\"{'='*100}\")"
  },
  {
   "cell_type": "markdown",
   "id": "profiles-section",
   "metadata": {},
   "source": [
    "## Regional Collaboration Profiles Summary"
   ]
  },
  {
   "cell_type": "code",
   "execution_count": null,
   "id": "collaboration-profiles",
   "metadata": {},
   "outputs": [],
   "source": [
    "# Regional Collaboration Profiles - Top 3 Patterns per Region\n",
    "print(\"🌍 REGIONAL COLLABORATION PROFILES\")\n",
    "print(\"=\" * 70)\n",
    "\n",
    "# Create summary for each region\n",
    "for region in regions:\n",
    "    print(f\"\\n📍 {region.upper()}:\")\n",
    "    \n",
    "    # Get percentage data for this region (excluding not_classified)\n",
    "    region_pct = df[(df['region'] == region) & \n",
    "                   (df['variable'] == 'collaboration_pct') & \n",
    "                   (df['cluster_name'] != 'not_classified')]\n",
    "    \n",
    "    # Sort by percentage and get top 3\n",
    "    region_sorted = region_pct.sort_values('value', ascending=False).head(3)\n",
    "    \n",
    "    for i, (_, row) in enumerate(region_sorted.iterrows(), 1):\n",
    "        pattern = row['cluster_name'].title().replace('_', ' ')\n",
    "        percentage = row['value']\n",
    "        print(f\"  {i}. {pattern}: {percentage:.1f}%\")\n",
    "\n",
    "print(f\"\\n📊 COLLABORATION PATTERN DEFINITIONS:\")\n",
    "print(\"-\" * 70)\n",
    "print(\"• Directive: Direct task completion requests\")\n",
    "print(\"• Task Iteration: Iterative refinement and improvement processes\")\n",
    "print(\"• Learning: Educational assistance and tutorial requests\")\n",
    "print(\"• Feedback Loop: Review, critique, and improvement cycles\")\n",
    "print(\"• Validation: Verification and accuracy checking requests\")\n",
    "print(\"• None: No specific collaboration pattern identified\")\n",
    "print(\"=\" * 70)"
   ]
  },
  {
   "cell_type": "markdown",
   "id": "insights-section",
   "metadata": {},
   "source": [
    "## Strategic Insights\n",
    "\n",
    "### Key Regional Patterns\n",
    "\n",
    "**[INSERT KEY REGIONAL INSIGHTS HERE]**\n",
    "\n",
    "_Example areas to explore:_\n",
    "- _Which regions show the highest directive vs. learning collaboration ratios?_\n",
    "- _How do collaboration patterns correlate with software development complexity preferences?_\n",
    "- _What do regional differences suggest about user maturity and needs?_\n",
    "\n",
    "### Business and Product Implications\n",
    "\n",
    "**[INSERT BUSINESS IMPLICATIONS HERE]**\n",
    "\n",
    "_Consider implications for:_\n",
    "- _Regional product development and feature prioritization_\n",
    "- _Marketing messaging and positioning strategies_\n",
    "- _User onboarding and education programs_\n",
    "- _Enterprise growth opportunities by region_\n",
    "\n",
    "### Alignment with Software Development Patterns\n",
    "\n",
    "**[INSERT ALIGNMENT WITH SOFTWARE PATTERNS HERE]**\n",
    "\n",
    "_Cross-reference with Software Request Analysis findings:_\n",
    "- _Do regions with high learning collaboration also show different SDLC stage preferences?_\n",
    "- _How do collaboration patterns correlate with software complexity adoption?_\n",
    "- _What does this suggest about regional developer ecosystem maturity?_\n",
    "\n",
    "### Strategic Recommendations\n",
    "\n",
    "**[INSERT STRATEGIC RECOMMENDATIONS HERE]**\n",
    "\n",
    "_Potential focus areas:_\n",
    "- _Region-specific feature development priorities_\n",
    "- _Educational content and tutorial strategies_\n",
    "- _Enterprise engagement approaches by collaboration preference_\n",
    "- _Cross-regional best practice sharing opportunities_"
   ]
  }
 ],
 "metadata": {
  "kernelspec": {
   "display_name": "Python 3",
   "language": "python",
   "name": "python3"
  },
  "language_info": {
   "codemirror_mode": {
    "name": "ipython",
    "version": 3
   },
   "file_extension": ".py",
   "mimetype": "text/x-python",
   "name": "python",
   "nbconvert_exporter": "python",
   "pygments_lexer": "ipython3",
   "version": "3.8.5"
  }
 },
 "nbformat": 4,
 "nbformat_minor": 5
}