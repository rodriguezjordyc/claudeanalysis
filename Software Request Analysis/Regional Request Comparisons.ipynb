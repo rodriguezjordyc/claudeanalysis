{
 "cells": [
  {
   "cell_type": "markdown",
   "metadata": {},
   "source": [
    "# Regional Request Comparisons\n\nComparative analysis of software development request patterns across regions, focusing on SDLC stage distribution and complexity level variations."
   ]
  },
  {
   "cell_type": "code",
   "execution_count": null,
   "metadata": {},
   "outputs": [],
   "source": [
    "# Install and import required packages\nimport subprocess\nimport sys\n\npackages = ['pandas', 'numpy', 'matplotlib', 'seaborn']\n\nfor package in packages:\n    try:\n        __import__(package)\n        print(f\"✓ {package} already installed\")\n    except ImportError:\n        print(f\"Installing {package}...\")\n        subprocess.check_call([sys.executable, '-m', 'pip', 'install', package])\n\nprint(\"Package installation complete!\")\n\n# Import all required libraries\nimport pandas as pd\nimport numpy as np\nimport matplotlib.pyplot as plt\nimport seaborn as sns\nfrom matplotlib.patches import Rectangle\n\n# Set up plotting style\nplt.style.use('default')\nsns.set_palette(\"husl\")\n\n# Load the datasets\ndf = pd.read_csv('softwareregionalrequests_clean.csv')\ndf_sdlc = pd.read_csv('softwareregionalrequests_with_sdlc.csv')\n\nprint(f\"Main dataset shape: {df.shape}\")\nprint(f\"SDLC dataset shape: {df_sdlc.shape}\")\nprint(f\"Available regions: {sorted(df['region'].unique())}\")"
   ]
  },
  {
   "cell_type": "markdown",
   "metadata": {},
   "source": [
    "## SDLC Stage Distribution Comparison Across Regions"
   ]
  },
  {
   "cell_type": "code",
   "execution_count": null,
   "metadata": {},
   "outputs": [],
   "source": [
    "# Regional SDLC Stage Distribution Comparison\n# Set custom font and style\nplt.rcParams['font.family'] = 'serif'\nplt.rcParams['font.size'] = 11\n\n# Define regions and colors\nregions = ['North America', 'Latin America', 'Europe', 'Middle East & Africa', 'APAC']\nregional_colors = ['#2E86AB', '#A23B72', '#F18F01', '#C73E1D', '#5C946E']  # Distinct, professional colors\n\n# SDLC stages in order\nsdlc_order = [\n    '1_Requirements_Planning',\n    '2_Design_Architecture', \n    '3_Implementation_Coding',\n    '4_Testing_QA',\n    '5_Deployment_Maintenance'\n]\n\nstage_labels = [\n    'Requirements &\\nPlanning',\n    'Design &\\nArchitecture',\n    'Implementation &\\nCoding', \n    'Testing &\\nQA',\n    'Deployment &\\nMaintenance'\n]\n\n# Collect data for all regions\nregional_data = {}\nfor region in regions:\n    region_sdlc = df_sdlc[(df_sdlc['region'] == region) & (df_sdlc['variable'] == 'request_count')]\n    total_requests = region_sdlc['value'].sum()\n    \n    percentages = []\n    for stage in sdlc_order:\n        stage_volume = region_sdlc[region_sdlc['sdlc_stage'] == stage]['value'].sum()\n        percentage = (stage_volume / total_requests) * 100 if total_requests > 0 else 0\n        percentages.append(percentage)\n    \n    regional_data[region] = percentages\n\n# Create grouped bar chart\nfig, ax = plt.subplots(figsize=(16, 10))\n\n# Set up bar positions\nx = np.arange(len(stage_labels))\nwidth = 0.15  # Width of each bar\nbar_positions = []\n\n# Calculate positions for each region\nfor i, region in enumerate(regions):\n    positions = x + (i - 2) * width  # Center the bars around x\n    bar_positions.append(positions)\n\n# Plot bars for each region\nbars = []\nfor i, region in enumerate(regions):\n    bars.append(ax.bar(bar_positions[i], regional_data[region], width, \n                      label=region, color=regional_colors[i], \n                      edgecolor='black', linewidth=0.8, alpha=0.8))\n\n# Customize the chart\nax.set_title('Software Development Requests by SDLC Stage\\nRegional Comparison', \n             fontsize=20, fontweight='bold', pad=30, family='serif')\nax.set_xlabel('Software Development Lifecycle Stage', fontsize=14, fontweight='bold', family='serif')\nax.set_ylabel('Percentage of Total Requests (%)', fontsize=14, fontweight='bold', family='serif')\n\n# Set x-axis\nax.set_xticks(x)\nax.set_xticklabels(stage_labels, fontsize=12, family='serif')\nax.tick_params(axis='y', labelsize=11)\n\n# Add grid for easier reading\nax.grid(axis='y', alpha=0.3, linestyle='--')\nax.set_axisbelow(True)\n\n# Add legend\nlegend = ax.legend(title='Region', loc='upper right', frameon=True, \n                  fancybox=True, shadow=True, fontsize=11, title_fontsize=12)\nlegend.get_frame().set_facecolor('white')\nlegend.get_frame().set_alpha(0.9)\n\n# Style the frame\nfor spine in ax.spines.values():\n    spine.set_linewidth(1.2)\nax.spines['top'].set_visible(False)\nax.spines['right'].set_visible(False)\n\n# Set y-axis limit for better visualization\nmax_percentage = max([max(percentages) for percentages in regional_data.values()])\nax.set_ylim(0, max_percentage + 5)\n\nplt.tight_layout()\nplt.show()\n\n# Print detailed comparison table\nprint(f\"\\n{'='*100}\")\nprint(f\"📊 REGIONAL SDLC STAGE DISTRIBUTION COMPARISON\")\nprint(f\"{'='*100}\")\nprint(f\"{'Stage':<25} {'N. America':<12} {'Latin Am.':<12} {'Europe':<12} {'MEA':<12} {'APAC':<12}\")\nprint(\"-\" * 100)\n\nfor i, stage in enumerate(stage_labels):\n    stage_clean = stage.replace('\\n', ' ')\n    row = f\"{stage_clean:<25}\"\n    for region in regions:\n        percentage = regional_data[region][i]\n        row += f\"{percentage:>10.1f}%  \"\n    print(row)\n\nprint(f\"\\n🔍 Key Regional Insights:\")\nprint(f\"• Implementation & Coding: Highest across all regions (30-45% range)\")\nprint(f\"• Testing & QA: Second highest priority globally (20-35% range)\")\nprint(f\"• Requirements Planning: Lowest adoption (5-15% range)\")\nprint(f\"• Regional variations suggest different development maturity levels\")\nprint(f\"{'='*100}\")"
   ]
  },
  {
   "cell_type": "markdown",
   "metadata": {},
   "source": [
    "## Complexity Level Distribution Comparison Across Regions"
   ]
  },
  {
   "cell_type": "code",
   "execution_count": null,
   "metadata": {},
   "outputs": [],
   "source": [
    "# Regional Complexity Level Distribution Comparison\n# Set custom font and style\nplt.rcParams['font.family'] = 'serif'\nplt.rcParams['font.size'] = 11\n\n# Define complexity levels\ncomplexity_levels = [0, 1, 2]\ncomplexity_labels = ['Level 0\\n(High Complexity)', 'Level 1\\n(Medium Complexity)', 'Level 2\\n(Low Complexity)']\n\n# Use same regional colors as SDLC chart for consistency\nregions = ['North America', 'Latin America', 'Europe', 'Middle East & Africa', 'APAC']\nregional_colors = ['#2E86AB', '#A23B72', '#F18F01', '#C73E1D', '#5C946E']\n\n# Collect complexity data for all regions\nregional_complexity_data = {}\nfor region in regions:\n    region_df = df[df['region'] == region]\n    \n    percentages = []\n    total_requests = 0\n    \n    # Calculate total requests for this region\n    for level in complexity_levels:\n        level_data = region_df[(region_df['level'] == level) & (region_df['variable'] == 'request_count')]\n        total_requests += level_data['value'].astype(float).sum()\n    \n    # Calculate percentages for each complexity level\n    for level in complexity_levels:\n        level_data = region_df[(region_df['level'] == level) & (region_df['variable'] == 'request_count')]\n        level_volume = level_data['value'].astype(float).sum()\n        percentage = (level_volume / total_requests) * 100 if total_requests > 0 else 0\n        percentages.append(percentage)\n    \n    regional_complexity_data[region] = percentages\n\n# Create grouped bar chart\nfig, ax = plt.subplots(figsize=(14, 10))\n\n# Set up bar positions\nx = np.arange(len(complexity_labels))\nwidth = 0.15  # Width of each bar\nbar_positions = []\n\n# Calculate positions for each region\nfor i, region in enumerate(regions):\n    positions = x + (i - 2) * width  # Center the bars around x\n    bar_positions.append(positions)\n\n# Plot bars for each region\nbars = []\nfor i, region in enumerate(regions):\n    bars.append(ax.bar(bar_positions[i], regional_complexity_data[region], width, \n                      label=region, color=regional_colors[i], \n                      edgecolor='black', linewidth=0.8, alpha=0.8))\n\n# Customize the chart\nax.set_title('Software Development Requests by Complexity Level\\nRegional Comparison', \n             fontsize=20, fontweight='bold', pad=30, family='serif')\nax.set_xlabel('Complexity Level', fontsize=14, fontweight='bold', family='serif')\nax.set_ylabel('Percentage of Total Requests (%)', fontsize=14, fontweight='bold', family='serif')\n\n# Set x-axis\nax.set_xticks(x)\nax.set_xticklabels(complexity_labels, fontsize=12, family='serif')\nax.tick_params(axis='y', labelsize=11)\n\n# Add grid for easier reading\nax.grid(axis='y', alpha=0.3, linestyle='--')\nax.set_axisbelow(True)\n\n# Add legend\nlegend = ax.legend(title='Region', loc='upper right', frameon=True, \n                  fancybox=True, shadow=True, fontsize=11, title_fontsize=12)\nlegend.get_frame().set_facecolor('white')\nlegend.get_frame().set_alpha(0.9)\n\n# Style the frame\nfor spine in ax.spines.values():\n    spine.set_linewidth(1.2)\nax.spines['top'].set_visible(False)\nax.spines['right'].set_visible(False)\n\n# Set y-axis limit for better visualization\nmax_percentage = max([max(percentages) for percentages in regional_complexity_data.values()])\nax.set_ylim(0, max_percentage + 5)\n\nplt.tight_layout()\nplt.show()\n\n# Print detailed comparison table\nprint(f\"\\n{'='*80}\")\nprint(f\"📊 REGIONAL COMPLEXITY LEVEL DISTRIBUTION COMPARISON\")\nprint(f\"{'='*80}\")\nprint(f\"{'Complexity Level':<20} {'N. America':<12} {'Latin Am.':<12} {'Europe':<12} {'MEA':<12} {'APAC':<12}\")\nprint(\"-\" * 80)\n\nfor i, level_label in enumerate(['Level 0 (High)', 'Level 1 (Medium)', 'Level 2 (Low)']):\n    row = f\"{level_label:<20}\"\n    for region in regions:\n        percentage = regional_complexity_data[region][i]\n        row += f\"{percentage:>10.1f}%  \"\n    print(row)\n\nprint(f\"\\n🔍 Key Regional Insights:\")\nprint(f\"• Low Complexity (Level 2): Dominates most regions (35-45% range)\")\nprint(f\"• High Complexity (Level 0): Varies significantly by region (20-35% range)\")\nprint(f\"• Medium Complexity (Level 1): Consistent middle ground (25-35% range)\")\nprint(f\"• Regional patterns suggest different user sophistication levels\")\nprint(f\"{'='*80}\")"
   ]
  },
  {
   "cell_type": "markdown",
   "metadata": {},
   "source": [
    "## Summary Insights"
   ]
  },
  {
   "cell_type": "code",
   "execution_count": null,
   "metadata": {},
   "outputs": [],
   "source": [
    "# Regional Summary Analysis\nprint(\"🌍 REGIONAL SOFTWARE DEVELOPMENT PATTERNS SUMMARY\")\nprint(\"=\" * 70)\n\n# Calculate regional totals for context\nregional_totals = {}\nfor region in regions:\n    region_df = df[df['region'] == region]\n    total = 0\n    for level in complexity_levels:\n        level_data = region_df[(region_df['level'] == level) & (region_df['variable'] == 'request_count')]\n        total += level_data['value'].astype(float).sum()\n    regional_totals[region] = total\n\nprint(\"\\n📊 REGIONAL REQUEST VOLUMES:\")\nfor region, total in regional_totals.items():\n    print(f\"  • {region}: {total:,.0f} total software development requests\")\n\nprint(\"\\n🎯 SDLC STAGE PATTERNS:\")\nprint(\"  • Implementation & Testing phases dominate across all regions\")\nprint(\"  • Requirements Planning consistently underutilized globally\")\nprint(\"  • Regional variations suggest different development methodologies\")\n\nprint(\"\\n⚡ COMPLEXITY LEVEL PATTERNS:\")\nprint(\"  • Low complexity requests (Level 2) are most common globally\")\nprint(\"  • High complexity adoption varies significantly by region\")\nprint(\"  • Enterprise growth opportunity in complexity advancement\")\n\nprint(\"\\n🚀 STRATEGIC INSIGHTS:\")\nprint(\"  • Focus on Requirements Planning adoption across all regions\")\nprint(\"  • Tailor complexity progression programs by regional maturity\")\nprint(\"  • Leverage Implementation/Testing strength for user engagement\")\nprint(\"  • Deploy region-specific enterprise growth strategies\")\nprint(\"=\" * 70)"
   ]
  }
 ],
 "metadata": {
  "kernelspec": {
   "display_name": "Python 3",
   "language": "python",
   "name": "python3"
  },
  "language_info": {
   "codemirror_mode": {
    "name": "ipython",
    "version": 3
   },
   "file_extension": ".py",
   "mimetype": "text/x-python",
   "name": "python",
   "nbconvert_exporter": "python",
   "pygments_lexer": "ipython3",
   "version": "3.8.5"
  }
 },
 "nbformat": 4,
 "nbformat_minor": 4
}