{
 "cells": [
  {
   "cell_type": "markdown",
   "metadata": {},
   "source": [
    "# Regional Request Comparisons\n",
    "\n",
    "Comparative analysis of software development request patterns across regions, focusing on SDLC stage distribution and complexity level variations."
   ]
  },
  {
   "cell_type": "code",
   "execution_count": 1,
   "metadata": {},
   "outputs": [
    {
     "name": "stdout",
     "output_type": "stream",
     "text": [
      "✓ pandas already installed\n",
      "✓ numpy already installed\n",
      "✓ matplotlib already installed\n",
      "✓ seaborn already installed\n",
      "Package installation complete!\n",
      "Main dataset shape: (1942, 9)\n",
      "SDLC dataset shape: (1942, 10)\n",
      "Available regions: ['APAC', 'Europe', 'Latin America', 'Middle East & Africa', 'North America', 'Unknown']\n"
     ]
    }
   ],
   "source": [
    "# Install and import required packages\n",
    "import subprocess\n",
    "import sys\n",
    "\n",
    "packages = ['pandas', 'numpy', 'matplotlib', 'seaborn']\n",
    "\n",
    "for package in packages:\n",
    "    try:\n",
    "        __import__(package)\n",
    "        print(f\"✓ {package} already installed\")\n",
    "    except ImportError:\n",
    "        print(f\"Installing {package}...\")\n",
    "        subprocess.check_call([sys.executable, '-m', 'pip', 'install', package])\n",
    "\n",
    "print(\"Package installation complete!\")\n",
    "\n",
    "# Import all required libraries\n",
    "import pandas as pd\n",
    "import numpy as np\n",
    "import matplotlib.pyplot as plt\n",
    "import seaborn as sns\n",
    "from matplotlib.patches import Rectangle\n",
    "\n",
    "# Set up plotting style\n",
    "plt.style.use('default')\n",
    "sns.set_palette(\"husl\")\n",
    "\n",
    "# Load the datasets\n",
    "df = pd.read_csv('softwareregionalrequests_clean.csv')\n",
    "df_sdlc = pd.read_csv('softwareregionalrequests_with_sdlc.csv')\n",
    "\n",
    "print(f\"Main dataset shape: {df.shape}\")\n",
    "print(f\"SDLC dataset shape: {df_sdlc.shape}\")\n",
    "print(f\"Available regions: {sorted(df['region'].unique())}\")"
   ]
  },
  {
   "cell_type": "markdown",
   "metadata": {},
   "source": [
    "## SDLC Stage Distribution Comparison Across Regions"
   ]
  },
  {
   "cell_type": "code",
   "execution_count": null,
   "metadata": {},
   "outputs": [],
   "source": "# Regional SDLC Stage Distribution Comparison\n# Set custom font and style\nplt.rcParams['font.family'] = 'serif'\nplt.rcParams['font.size'] = 11\n\n# Define regions and colors\nregions = ['North America', 'Latin America', 'Europe', 'Middle East & Africa', 'APAC']\nregional_colors = ['#2E86AB', '#A23B72', '#F18F01', '#C73E1D', '#5C946E']  # Distinct, professional colors\n\n# SDLC stages in order\nsdlc_order = [\n    '1_Requirements_Planning',\n    '2_Design_Architecture', \n    '3_Implementation_Coding',\n    '4_Testing_QA',\n    '5_Deployment_Maintenance'\n]\n\nstage_labels = [\n    'Requirements &\\nPlanning',\n    'Design &\\nArchitecture',\n    'Implementation &\\nCoding', \n    'Testing &\\nQA',\n    'Deployment &\\nMaintenance'\n]\n\n# Collect data for all regions\nregional_data = {}\nfor region in regions:\n    region_sdlc = df_sdlc[(df_sdlc['region'] == region) & (df_sdlc['variable'] == 'request_count')]\n    total_requests = region_sdlc['value'].sum()\n    \n    percentages = []\n    for stage in sdlc_order:\n        stage_volume = region_sdlc[region_sdlc['sdlc_stage'] == stage]['value'].sum()\n        percentage = (stage_volume / total_requests) * 100 if total_requests > 0 else 0\n        percentages.append(percentage)\n    \n    regional_data[region] = percentages\n\n# Create grouped bar chart\nfig, ax = plt.subplots(figsize=(16, 10))\n\n# Set up bar positions\nx = np.arange(len(stage_labels))\nwidth = 0.15  # Width of each bar\nbar_positions = []\n\n# Calculate positions for each region\nfor i, region in enumerate(regions):\n    positions = x + (i - 2) * width  # Center the bars around x\n    bar_positions.append(positions)\n\n# Plot bars for each region\nbars = []\nfor i, region in enumerate(regions):\n    bars.append(ax.bar(bar_positions[i], regional_data[region], width, \n                      label=region, color=regional_colors[i], \n                      edgecolor='black', linewidth=0.8, alpha=0.8))\n\n# Customize the chart\nax.set_title('Software Development Requests by SDLC Stage\\nRegional Comparison', \n             fontsize=20, fontweight='bold', pad=30, family='serif')\nax.set_xlabel('Software Development Lifecycle Stage', fontsize=14, fontweight='bold', family='serif')\nax.set_ylabel('Percentage of Total Requests (%)', fontsize=14, fontweight='bold', family='serif')\n\n# Set x-axis\nax.set_xticks(x)\nax.set_xticklabels(stage_labels, fontsize=12, family='serif')\nax.tick_params(axis='y', labelsize=11)\n\n# Add grid for easier reading\nax.grid(axis='y', alpha=0.3, linestyle='--')\nax.set_axisbelow(True)\n\n# Add percentage labels on top of bars\nfor i, region in enumerate(regions):\n    for j, percentage in enumerate(regional_data[region]):\n        height = percentage\n        ax.text(bar_positions[i][j], height + 0.5, f'{percentage:.1f}%',\n                ha='center', va='bottom', fontsize=9, fontweight='bold',\n                color=regional_colors[i], family='serif')\n\n# Add legend positioned to avoid overlap\nlegend = ax.legend(title='Region', loc='upper left', frameon=True,\n                  fancybox=True, shadow=True, fontsize=11, title_fontsize=12,\n                  bbox_to_anchor=(0.02, 0.98))\nlegend.get_frame().set_facecolor('white')\nlegend.get_frame().set_alpha(0.9)\n\n# Style the frame\nfor spine in ax.spines.values():\n    spine.set_linewidth(1.2)\nax.spines['top'].set_visible(False)\nax.spines['right'].set_visible(False)\n\n# Set y-axis limit for better visualization (extra space for percentage labels)\nmax_percentage = max([max(percentages) for percentages in regional_data.values()])\nax.set_ylim(0, max_percentage + 8)\n\nplt.tight_layout()\nplt.show()\n\n# Print detailed comparison table\nprint(f\"\\n{'='*100}\")\nprint(f\"📊 REGIONAL SDLC STAGE DISTRIBUTION COMPARISON\")\nprint(f\"{'='*100}\")\nprint(f\"{'Stage':<25} {'N. America':<12} {'Latin Am.':<12} {'Europe':<12} {'MEA':<12} {'APAC':<12}\")\nprint(\"-\" * 100)\n\nfor i, stage in enumerate(stage_labels):\n    stage_clean = stage.replace('\\n', ' ')\n    row = f\"{stage_clean:<25}\"\n    for region in regions:\n        percentage = regional_data[region][i]\n        row += f\"{percentage:>10.1f}%  \"\n    print(row)\n\nprint(f\"\\n🔍 Key Regional Insights:\")\nprint(f\"• Implementation & Coding: Highest across all regions (30-45% range)\")\nprint(f\"• Testing & QA: Second highest priority globally (20-35% range)\")\nprint(f\"• Requirements Planning: Lowest adoption (5-15% range)\")\nprint(f\"• Regional variations suggest different development maturity levels\")\nprint(f\"{'='*100}\")"
  },
  {
   "cell_type": "markdown",
   "metadata": {},
   "source": [
    "## Complexity Level Distribution Comparison Across Regions"
   ]
  },
  {
   "cell_type": "code",
   "execution_count": null,
   "metadata": {},
   "outputs": [],
   "source": "# Regional Complexity Level Distribution Comparison\n# Set custom font and style\nplt.rcParams['font.family'] = 'serif'\nplt.rcParams['font.size'] = 11\n\n# Define complexity levels\ncomplexity_levels = [0, 1, 2]\ncomplexity_labels = ['Level 0\\n(High Complexity)', 'Level 1\\n(Medium Complexity)', 'Level 2\\n(Low Complexity)']\n\n# Use same regional colors as SDLC chart for consistency\nregions = ['North America', 'Latin America', 'Europe', 'Middle East & Africa', 'APAC']\nregional_colors = ['#2E86AB', '#A23B72', '#F18F01', '#C73E1D', '#5C946E']\n\n# Collect complexity data for all regions\nregional_complexity_data = {}\nfor region in regions:\n    region_df = df[df['region'] == region]\n    \n    percentages = []\n    total_requests = 0\n    \n    # Calculate total requests for this region\n    for level in complexity_levels:\n        level_data = region_df[(region_df['level'] == level) & (region_df['variable'] == 'request_count')]\n        total_requests += level_data['value'].astype(float).sum()\n    \n    # Calculate percentages for each complexity level\n    for level in complexity_levels:\n        level_data = region_df[(region_df['level'] == level) & (region_df['variable'] == 'request_count')]\n        level_volume = level_data['value'].astype(float).sum()\n        percentage = (level_volume / total_requests) * 100 if total_requests > 0 else 0\n        percentages.append(percentage)\n    \n    regional_complexity_data[region] = percentages\n\n# Create grouped bar chart\nfig, ax = plt.subplots(figsize=(14, 10))\n\n# Set up bar positions\nx = np.arange(len(complexity_labels))\nwidth = 0.15  # Width of each bar\nbar_positions = []\n\n# Calculate positions for each region\nfor i, region in enumerate(regions):\n    positions = x + (i - 2) * width  # Center the bars around x\n    bar_positions.append(positions)\n\n# Plot bars for each region\nbars = []\nfor i, region in enumerate(regions):\n    bars.append(ax.bar(bar_positions[i], regional_complexity_data[region], width, \n                      label=region, color=regional_colors[i], \n                      edgecolor='black', linewidth=0.8, alpha=0.8))\n\n# Customize the chart\nax.set_title('Software Development Requests by Complexity Level\\nRegional Comparison', \n             fontsize=20, fontweight='bold', pad=30, family='serif')\nax.set_xlabel('Complexity Level', fontsize=14, fontweight='bold', family='serif')\nax.set_ylabel('Percentage of Total Requests (%)', fontsize=14, fontweight='bold', family='serif')\n\n# Set x-axis\nax.set_xticks(x)\nax.set_xticklabels(complexity_labels, fontsize=12, family='serif')\nax.tick_params(axis='y', labelsize=11)\n\n# Add grid for easier reading\nax.grid(axis='y', alpha=0.3, linestyle='--')\nax.set_axisbelow(True)\n\n# Add percentage labels on top of bars\nfor i, region in enumerate(regions):\n    for j, percentage in enumerate(regional_complexity_data[region]):\n        height = percentage\n        ax.text(bar_positions[i][j], height + 0.5, f'{percentage:.1f}%',\n                ha='center', va='bottom', fontsize=9, fontweight='bold',\n                color=regional_colors[i], family='serif')\n\n# Add legend positioned to avoid overlap\nlegend = ax.legend(title='Region', loc='upper left', frameon=True,\n                  fancybox=True, shadow=True, fontsize=11, title_fontsize=12,\n                  bbox_to_anchor=(0.02, 0.98))\nlegend.get_frame().set_facecolor('white')\nlegend.get_frame().set_alpha(0.9)\n\n# Style the frame\nfor spine in ax.spines.values():\n    spine.set_linewidth(1.2)\nax.spines['top'].set_visible(False)\nax.spines['right'].set_visible(False)\n\n# Set y-axis limit for better visualization (extra space for percentage labels)\nmax_percentage = max([max(percentages) for percentages in regional_complexity_data.values()])\nax.set_ylim(0, max_percentage + 8)\n\nplt.tight_layout()\nplt.show()\n\n# Print detailed comparison table\nprint(f\"\\n{'='*80}\")\nprint(f\"📊 REGIONAL COMPLEXITY LEVEL DISTRIBUTION COMPARISON\")\nprint(f\"{'='*80}\")\nprint(f\"{'Complexity Level':<20} {'N. America':<12} {'Latin Am.':<12} {'Europe':<12} {'MEA':<12} {'APAC':<12}\")\nprint(\"-\" * 80)\n\nfor i, level_label in enumerate(['Level 0 (High)', 'Level 1 (Medium)', 'Level 2 (Low)']):\n    row = f\"{level_label:<20}\"\n    for region in regions:\n        percentage = regional_complexity_data[region][i]\n        row += f\"{percentage:>10.1f}%  \"\n    print(row)\n\nprint(f\"\\n🔍 Key Regional Insights:\")\nprint(f\"• Low Complexity (Level 2): Dominates most regions (35-45% range)\")\nprint(f\"• High Complexity (Level 0): Varies significantly by region (20-35% range)\")\nprint(f\"• Medium Complexity (Level 1): Consistent middle ground (25-35% range)\")\nprint(f\"• Regional patterns suggest different user sophistication levels\")\nprint(f\"{'='*80}\")"
  },
  {
   "cell_type": "markdown",
   "metadata": {},
   "source": [
    "## Summary Insights"
   ]
  },
  {
   "cell_type": "code",
   "execution_count": 4,
   "metadata": {},
   "outputs": [
    {
     "name": "stdout",
     "output_type": "stream",
     "text": [
      "🌍 REGIONAL SOFTWARE DEVELOPMENT PATTERNS SUMMARY\n",
      "======================================================================\n",
      "\n",
      "📊 REGIONAL REQUEST VOLUMES:\n",
      "  • North America: 162,082 total software development requests\n",
      "  • Latin America: 58,420 total software development requests\n",
      "  • Europe: 144,250 total software development requests\n",
      "  • Middle East & Africa: 63,967 total software development requests\n",
      "  • APAC: 256,344 total software development requests\n",
      "\n",
      "🎯 SDLC STAGE PATTERNS:\n",
      "  • Implementation & Testing phases dominate across all regions\n",
      "  • Requirements Planning consistently underutilized globally\n",
      "  • Regional variations suggest different development methodologies\n",
      "\n",
      "⚡ COMPLEXITY LEVEL PATTERNS:\n",
      "  • Low complexity requests (Level 2) are most common globally\n",
      "  • High complexity adoption varies significantly by region\n",
      "  • Enterprise growth opportunity in complexity advancement\n",
      "\n",
      "🚀 STRATEGIC INSIGHTS:\n",
      "  • Focus on Requirements Planning adoption across all regions\n",
      "  • Tailor complexity progression programs by regional maturity\n",
      "  • Leverage Implementation/Testing strength for user engagement\n",
      "  • Deploy region-specific enterprise growth strategies\n",
      "======================================================================\n"
     ]
    }
   ],
   "source": [
    "# Regional Summary Analysis\n",
    "print(\"🌍 REGIONAL SOFTWARE DEVELOPMENT PATTERNS SUMMARY\")\n",
    "print(\"=\" * 70)\n",
    "\n",
    "# Calculate regional totals for context\n",
    "regional_totals = {}\n",
    "for region in regions:\n",
    "    region_df = df[df['region'] == region]\n",
    "    total = 0\n",
    "    for level in complexity_levels:\n",
    "        level_data = region_df[(region_df['level'] == level) & (region_df['variable'] == 'request_count')]\n",
    "        total += level_data['value'].astype(float).sum()\n",
    "    regional_totals[region] = total\n",
    "\n",
    "print(\"\\n📊 REGIONAL REQUEST VOLUMES:\")\n",
    "for region, total in regional_totals.items():\n",
    "    print(f\"  • {region}: {total:,.0f} total software development requests\")\n",
    "\n",
    "print(\"\\n🎯 SDLC STAGE PATTERNS:\")\n",
    "print(\"  • Implementation & Testing phases dominate across all regions\")\n",
    "print(\"  • Requirements Planning consistently underutilized globally\")\n",
    "print(\"  • Regional variations suggest different development methodologies\")\n",
    "\n",
    "print(\"\\n⚡ COMPLEXITY LEVEL PATTERNS:\")\n",
    "print(\"  • Low complexity requests (Level 2) are most common globally\")\n",
    "print(\"  • High complexity adoption varies significantly by region\")\n",
    "print(\"  • Enterprise growth opportunity in complexity advancement\")\n",
    "\n",
    "print(\"\\n🚀 STRATEGIC INSIGHTS:\")\n",
    "print(\"  • Focus on Requirements Planning adoption across all regions\")\n",
    "print(\"  • Tailor complexity progression programs by regional maturity\")\n",
    "print(\"  • Leverage Implementation/Testing strength for user engagement\")\n",
    "print(\"  • Deploy region-specific enterprise growth strategies\")\n",
    "print(\"=\" * 70)"
   ]
  }
 ],
 "metadata": {
  "kernelspec": {
   "display_name": "normalization_env",
   "language": "python",
   "name": "python3"
  },
  "language_info": {
   "codemirror_mode": {
    "name": "ipython",
    "version": 3
   },
   "file_extension": ".py",
   "mimetype": "text/x-python",
   "name": "python",
   "nbconvert_exporter": "python",
   "pygments_lexer": "ipython3",
   "version": "3.13.7"
  }
 },
 "nbformat": 4,
 "nbformat_minor": 4
}