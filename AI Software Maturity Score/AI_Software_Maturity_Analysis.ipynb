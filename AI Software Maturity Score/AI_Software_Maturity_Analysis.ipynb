{
 "cells": [
  {
   "cell_type": "markdown",
   "id": "cell-0",
   "metadata": {},
   "source": [
    "# AI Software Maturity Score - Regional Analysis\n",
    "\n",
    "Comprehensive scoring of AI-powered software development maturity across global regions, combining collaboration sophistication, efficiency patterns, and complexity utilization into a unified metric."
   ]
  },
  {
   "cell_type": "code",
   "execution_count": null,
   "id": "cell-1",
   "metadata": {},
   "outputs": [],
   "source": [
    "# Install and import required packages\n",
    "import subprocess\n",
    "import sys\n",
    "\n",
    "packages = ['pandas', 'numpy', 'matplotlib', 'seaborn']\n",
    "\n",
    "for package in packages:\n",
    "    try:\n",
    "        __import__(package)\n",
    "        print(f\"✓ {package} already installed\")\n",
    "    except ImportError:\n",
    "        print(f\"Installing {package}...\")\n",
    "        subprocess.check_call([sys.executable, '-m', 'pip', 'install', package])\n",
    "\n",
    "print(\"Package installation complete!\")\n",
    "\n",
    "# Import all required libraries\n",
    "import pandas as pd\n",
    "import numpy as np\n",
    "import matplotlib.pyplot as plt\n",
    "import seaborn as sns\n",
    "\n",
    "# Set up plotting style\n",
    "plt.style.use('default')\n",
    "sns.set_palette(\"husl\")\n",
    "\n",
    "# Load the maturity scores\n",
    "df = pd.read_csv('maturity_scores.csv')\n",
    "\n",
    "print(f\"Dataset shape: {df.shape}\")\n",
    "print(f\"Regions analyzed: {len(df)}\")\n",
    "print(f\"\\nRegional rankings by maturity score:\")\n",
    "for _, row in df.sort_values('maturity_score', ascending=False).iterrows():\n",
    "    print(f\"{row['maturity_rank']:2d}. {row['region']:<20}: {row['maturity_score']:5.1f}\")"
   ]
  },
  {
   "cell_type": "markdown",
   "id": "cell-2",
   "metadata": {},
   "source": "## Methodology Overview\n\nThe **AI Software Maturity Score** combines three dimensions of regional AI utilization sophistication:\n\n### Component Scores (0-100 scale each):\n\n**1. Collaboration Sophistication Score (40% weight)**\n- Measures augmentation-focused collaboration patterns\n- Higher scores for validation, task iteration, and learning patterns\n- Formula: (% Validation + % Task Iteration + % Learning) normalized\n- **High weight reflects collaboration as proxy for AI literacy**\n\n**2. Efficiency Score (20% weight)**\n- Inverted software development length indices\n- Higher scores for shorter prompts/completions and lower computational cost\n- Formula: 100 - normalized(Prompt + Completion + Cost indices)\n\n**3. Complexity Utilization Score (40% weight)**\n- Percentage of Level 0 (highest complexity) software development requests\n- Measures engagement with sophisticated software development tasks\n- Formula: % Level 0 software requests normalized\n- **High weight reflects actual task sophistication as direct maturity measure**\n\n### Final Score:\n**AI Maturity Score = 0.40×Collaboration + 0.20×Efficiency + 0.40×Complexity**\n\nThe balanced collaboration-complexity weighting reflects that AI literacy (collaboration sophistication) is equally important as task complexity in measuring regional AI software development maturity."
  },
  {
   "cell_type": "markdown",
   "id": "cell-3",
   "metadata": {},
   "source": [
    "## Regional Rankings and Overall Scores"
   ]
  },
  {
   "cell_type": "code",
   "execution_count": null,
   "id": "cell-4",
   "metadata": {},
   "outputs": [],
   "source": "# Regional Rankings Bar Chart\nplt.rcParams['font.family'] = 'serif'\nplt.rcParams['font.size'] = 11\n\n# Sort by maturity score\ndf_sorted = df.sort_values('maturity_score', ascending=True)  # Ascending for horizontal bar chart\n\n# Create horizontal bar chart\nfig, ax = plt.subplots(figsize=(12, 8))\n\n# Define colors (using same palette as other analyses)\nregional_colors = ['#C73E1D', '#A23B72', '#5C946E', '#F18F01', '#2E86AB']  # MEA, Latin Am, APAC, Europe, N.America\n\n# Create horizontal bars\nbars = ax.barh(df_sorted['region'], df_sorted['maturity_score'], \n               color=regional_colors, alpha=0.8, edgecolor='black', linewidth=0.8)\n\n# Customize the chart\nax.set_title('AI Software Development Maturity Score by Region\\nComposite Index (0-100 Scale)', \n             fontsize=18, fontweight='bold', pad=25, family='serif')\nax.set_xlabel('Maturity Score', fontsize=14, fontweight='bold', family='serif')\nax.set_ylabel('Region', fontsize=14, fontweight='bold', family='serif')\n\n# Add score labels on bars\nfor i, (bar, score) in enumerate(zip(bars, df_sorted['maturity_score'])):\n    width = bar.get_width()\n    ax.text(width + 1, bar.get_y() + bar.get_height()/2, \n            f'{score:.1f}', ha='left', va='center', \n            fontsize=12, fontweight='bold', family='serif')\n\n# Add ranking numbers\nfor i, (bar, rank) in enumerate(zip(bars, df_sorted['maturity_rank'])):\n    ax.text(5, bar.get_y() + bar.get_height()/2, \n            f'#{int(rank)}', ha='left', va='center', \n            fontsize=11, fontweight='bold', family='serif', \n            color='white', bbox=dict(boxstyle='round,pad=0.3', facecolor='black', alpha=0.7))\n\n# Style the chart\nax.grid(axis='x', alpha=0.3, linestyle='--')\nax.set_axisbelow(True)\nax.set_xlim(0, 100)\n\n# Remove top and right spines\nax.spines['top'].set_visible(False)\nax.spines['right'].set_visible(False)\nax.spines['left'].set_linewidth(1.2)\nax.spines['bottom'].set_linewidth(1.2)\n\nplt.tight_layout()\nplt.show()\n\n# Print ranking table\nprint(\"\\n\" + \"=\"*70)\nprint(\"🏆 AI SOFTWARE DEVELOPMENT MATURITY RANKINGS\")\nprint(\"=\"*70)\ndf_ranked = df.sort_values('maturity_score', ascending=False)\nfor _, row in df_ranked.iterrows():\n    print(f\"{row['maturity_rank']:2d}. {row['region']:<22}: {row['maturity_score']:5.1f} points\")\n\nprint(\"\\n🎯 Key Finding: Europe rises to #2 with balanced collaboration-complexity weighting\")\nprint(\"📊 Methodology: 40% Collaboration + 20% Efficiency + 40% Complexity\")\nprint(\"🧠 Rationale: AI literacy (collaboration) equally important as task complexity\")"
  },
  {
   "cell_type": "markdown",
   "id": "cell-5",
   "metadata": {},
   "source": [
    "## Component Score Breakdown Analysis"
   ]
  },
  {
   "cell_type": "code",
   "execution_count": null,
   "id": "cell-6",
   "metadata": {},
   "outputs": [],
   "source": "# Component Breakdown Stacked Bar Chart\nfig, ax = plt.subplots(figsize=(14, 8))\n\n# Sort by maturity score (descending)\ndf_sorted = df.sort_values('maturity_score', ascending=False)\n\n# Define component colors\ncomponent_colors = ['#E74C3C', '#3498DB', '#2ECC71']  # Red, Blue, Green\n\n# Calculate weighted component contributions to final score (NEW WEIGHTS)\ncollaboration_contribution = df_sorted['collaboration_score'] * 0.40\nefficiency_contribution = df_sorted['efficiency_score'] * 0.20  \ncomplexity_contribution = df_sorted['complexity_score'] * 0.40\n\n# Create stacked bar chart\nwidth = 0.6\nx = np.arange(len(df_sorted))\n\nbars1 = ax.bar(x, collaboration_contribution, width, label='Collaboration (40%)', \n               color=component_colors[0], alpha=0.8, edgecolor='black', linewidth=0.5)\nbars2 = ax.bar(x, efficiency_contribution, width, bottom=collaboration_contribution,\n               label='Efficiency (20%)', color=component_colors[1], alpha=0.8, \n               edgecolor='black', linewidth=0.5)\nbars3 = ax.bar(x, complexity_contribution, width, \n               bottom=collaboration_contribution + efficiency_contribution,\n               label='Complexity (40%)', color=component_colors[2], alpha=0.8,\n               edgecolor='black', linewidth=0.5)\n\n# Customize the chart\nax.set_title('AI Software Maturity Score - Component Breakdown\\nWeighted Contributions to Final Score (Balanced Weighting)', \n             fontsize=16, fontweight='bold', pad=25, family='serif')\nax.set_xlabel('Region (Ranked by Overall Score)', fontsize=12, fontweight='bold', family='serif')\nax.set_ylabel('Score Contribution (Weighted)', fontsize=12, fontweight='bold', family='serif')\n\n# Set x-axis labels\nax.set_xticks(x)\nax.set_xticklabels([f\"{row['region']}\\n({row['maturity_score']:.1f})\" \n                    for _, row in df_sorted.iterrows()], \n                   fontsize=10, family='serif')\n\n# Add total score labels on top\nfor i, (_, row) in enumerate(df_sorted.iterrows()):\n    total_height = row['maturity_score']\n    ax.text(i, total_height + 1, f\"{total_height:.1f}\", \n            ha='center', va='bottom', fontsize=11, fontweight='bold', family='serif')\n\n# Add legend\nax.legend(loc='upper right', frameon=True, fancybox=True, shadow=True, \n          fontsize=11, title='Component Scores', title_fontsize=12)\n\n# Style the chart\nax.grid(axis='y', alpha=0.3, linestyle='--')\nax.set_axisbelow(True)\nax.set_ylim(0, 100)\n\n# Remove top and right spines\nax.spines['top'].set_visible(False)\nax.spines['right'].set_visible(False)\n\nplt.tight_layout()\nplt.show()\n\n# Print component analysis\nprint(\"\\n\" + \"=\"*90)\nprint(\"📊 COMPONENT SCORE ANALYSIS (40% Collab + 20% Efficiency + 40% Complex)\")\nprint(\"=\"*90)\nprint(f\"{'Region':<22} {'Collab':<8} {'Effic':<8} {'Complex':<8} {'Total':<8} {'Rank'}\")\nprint(\"-\"*90)\nfor _, row in df_sorted.iterrows():\n    print(f\"{row['region']:<22} {row['collaboration_score']:6.1f}   {row['efficiency_score']:6.1f}   \" +\n          f\"{row['complexity_score']:6.1f}   {row['maturity_score']:6.1f}   #{int(row['maturity_rank'])}\")\n\n# Find component leaders\ncollab_leader = df.loc[df['collaboration_score'].idxmax()]\nefficiency_leader = df.loc[df['efficiency_score'].idxmax()]\ncomplexity_leader = df.loc[df['complexity_score'].idxmax()]\n\nprint(f\"\\n🏆 Component Leaders:\")\nprint(f\"🤝 Collaboration: {collab_leader['region']} ({collab_leader['collaboration_score']:.1f})\")\nprint(f\"⚡ Efficiency: {efficiency_leader['region']} ({efficiency_leader['efficiency_score']:.1f})\")\nprint(f\"🧠 Complexity: {complexity_leader['region']} ({complexity_leader['complexity_score']:.1f})\")\n\nprint(f\"\\n💡 Weight Impact:\")\nprint(f\"• Europe benefits from 40% collaboration weight (collaboration leader)\")\nprint(f\"• North America maintains lead through efficiency + complexity combination\")\nprint(f\"• APAC drops to #3 as collaboration becomes more important\")\nprint(f\"• Balanced weighting rewards AI literacy alongside task sophistication\")"
  },
  {
   "cell_type": "markdown",
   "id": "cell-7",
   "metadata": {},
   "source": [
    "## Regional Profiles and Strategic Insights"
   ]
  },
  {
   "cell_type": "code",
   "execution_count": null,
   "id": "cell-8",
   "metadata": {},
   "outputs": [],
   "source": "# Regional Profiles Analysis\nprint(\"🌍 REGIONAL AI SOFTWARE DEVELOPMENT PROFILES\")\nprint(\"=\" * 70)\n\ndf_ranked = df.sort_values('maturity_score', ascending=False)\n\nfor _, row in df_ranked.iterrows():\n    print(f\"\\n📍 {row['region'].upper()} (#{int(row['maturity_rank'])} - {row['maturity_score']:.1f} points):\")\n    \n    # Component scores\n    print(f\"   📊 Component Scores:\")\n    print(f\"     • Collaboration: {row['collaboration_score']:5.1f} (Raw: {row['collaboration_raw']:.1f}% augmentation)\")\n    print(f\"     • Efficiency:    {row['efficiency_score']:5.1f} (Raw length index: {row['efficiency_raw']:.3f})\")\n    print(f\"     • Complexity:    {row['complexity_score']:5.1f} (Level 0: {row['level0_sw_pct']:.1f}%)\")\n    \n    # Augmentation pattern breakdown\n    validation = row['validation_pct']\n    task_iter = row['task_iteration_pct'] \n    learning = row['learning_pct']\n    print(f\"   🤝 Augmentation Patterns: Validation {validation:.1f}% + Task Iteration {task_iter:.1f}% + Learning {learning:.1f}%\")\n    \n    # Strengths and characteristics\n    strengths = []\n    if row['collaboration_score'] >= 60:\n        strengths.append(\"High collaboration sophistication\")\n    if row['efficiency_score'] >= 60:\n        strengths.append(\"Efficient AI utilization\")\n    if row['complexity_score'] >= 60:\n        strengths.append(\"Advanced complexity engagement\")\n    \n    if strengths:\n        print(f\"   💪 Strengths: {', '.join(strengths)}\")\n    \n    # Volume context\n    print(f\"   📈 Volume: {int(row['total_sw_requests']):,} total software requests\")\n    print(f\"   🎯 Level 0 Tasks: {int(row['level0_sw_requests']):,} highest-complexity requests\")\n\nprint(f\"\\n\" + \"=\"*70)\nprint(\"🔍 KEY STRATEGIC INSIGHTS:\")\nprint(\"=\"*70)\n\n# Calculate insights\ntop_overall = df_ranked.iloc[0]\nhighest_collab = df.loc[df['collaboration_score'].idxmax()]\nhighest_efficiency = df.loc[df['efficiency_score'].idxmax()]\nhighest_complexity = df.loc[df['complexity_score'].idxmax()]\n\nprint(f\"🏆 Overall Leader: {top_overall['region']} - combines efficiency + complexity\")\nprint(f\"🤝 Collaboration Leader: {highest_collab['region']} - augmentation-focused patterns\")\nprint(f\"⚡ Efficiency Leader: {highest_efficiency['region']} - optimized interaction patterns\")\nprint(f\"🧠 Complexity Leader: {highest_complexity['region']} - advanced task engagement\")\n\n# Volume vs sophistication analysis\nhighest_volume = df.loc[df['total_sw_requests'].idxmax()]\nprint(f\"\\n📊 Volume vs. Sophistication:\")\nprint(f\"   • Highest Volume: {highest_volume['region']} ({int(highest_volume['total_sw_requests']):,} requests)\")\nprint(f\"   • Highest Maturity: {top_overall['region']} ({top_overall['maturity_score']:.1f} score)\")\nif highest_volume['region'] != top_overall['region']:\n    print(f\"   • Key Finding: Volume ≠ Sophistication\")\n\nprint(f\"\\n🎯 Counter-Intuitive Findings:\")\nprint(f\"   • {highest_efficiency['region']} shows highest efficiency despite high complexity\")\nprint(f\"   • {highest_collab['region']} leads collaboration through learning-focused patterns\")\nprint(f\"   • Regional specialization patterns suggest different AI adoption strategies\")\nprint(f\"   • Corrected methodology reveals {highest_collab['region']}'s augmentation leadership\")"
  },
  {
   "cell_type": "markdown",
   "id": "cell-9",
   "metadata": {},
   "source": "## Strategic Implications and Recommendations\n\n### Key Findings\n\n**1. North America's Comprehensive Excellence**\n- Maintains #1 position (84.3) despite reduced weighting advantage\n- Demonstrates excellence across efficiency + complexity + moderate collaboration\n- Only region with high scores in multiple dimensions simultaneously\n\n**2. Europe's AI Literacy Leadership**\n- **Rises to #2 (66.3)** with balanced collaboration-complexity weighting\n- Leads in augmentation-focused patterns (validation, task iteration, learning)\n- Shows highest AI literacy as measured by collaborative sophistication\n- Benefits significantly from recognizing collaboration as proxy for AI maturity\n\n**3. APAC's Volume-Scale Challenge**\n- **Drops to #3 (62.7)** as collaboration sophistication becomes more important\n- High task complexity (74.6) but moderate collaboration sophistication (59.7)\n- Suggests scale-focused approach that may need AI literacy enhancement\n\n**4. Regional Specialization Patterns**\n- **North America**: Balanced excellence (84.3 score)\n- **Europe**: AI literacy + moderate sophistication (66.3 score)  \n- **APAC**: Scale + complexity focus (62.7 score)\n- **Latin America**: Limited strengths across dimensions (26.8 score)\n- **MEA**: High effort but limited results (11.2 score)\n\n### Methodology Impact\n\n**Balanced Collaboration-Complexity Weighting** creates more nuanced rankings:\n- **Europe's rise** validates collaboration as AI literacy proxy\n- **North America's resilience** shows comprehensive maturity\n- **APAC's adjustment** highlights collaboration gap despite complexity strength\n- Balanced approach rewards both AI sophistication and AI literacy\n\n### Business and Policy Implications\n\n**For Technology Organizations**:\n- **North America**: Export balanced approach combining efficiency, complexity, and collaboration\n- **Europe**: Leverage AI literacy leadership for global collaboration methodology\n- **APAC**: Invest in collaborative AI literacy alongside existing complexity strengths\n- **Latin America**: Develop foundational capabilities across all dimensions\n- **MEA**: Focus on converting high engagement into effective utilization\n\n**For Regional Development**:\n- Collaboration sophistication is equally important as task complexity\n- AI literacy (measured through collaboration patterns) drives long-term adoption\n- Balanced approach prevents over-optimization in single dimensions\n- Regional strategies should develop both sophistication and literacy together\n\n### Weighting Rationale\n\n**40% Collaboration Weight** reflects:\n- Collaboration patterns as proxy for AI literacy\n- Learning-oriented usage indicates sustainable AI adoption\n- Validation and iteration patterns show sophisticated AI understanding\n- Cultural/educational factors that enable effective AI deployment\n\n**40% Complexity Weight** reflects:\n- Actual task sophistication as direct maturity measure\n- Willingness to tackle challenging problems with AI\n- Regional capability to handle complex software development\n\n**20% Efficiency Weight** reflects:\n- Important but secondary to sophistication and literacy\n- Optimization can be learned; sophistication and literacy are foundational\n- Efficiency without complexity or collaboration may indicate limited use cases\n\n### Future Research Directions\n\n1. **AI Literacy Development**: Study how regions can enhance collaborative sophistication\n2. **Cross-Regional Learning**: Examine Europe-North America collaboration methodology transfer\n3. **APAC Enhancement**: Investigate collaboration pattern development alongside scale\n4. **Balanced Development**: Identify optimal pathways for developing both literacy and complexity\n5. **Cultural Factors**: Understand what drives Europe's learning-focused collaboration patterns\n\n### Methodological Lessons\n\n**Balanced Weighting Advantages**:\n- Rewards comprehensive AI maturity over single-dimension optimization\n- Recognizes collaboration sophistication as fundamental capability\n- Creates more stable rankings less sensitive to extreme scores in single dimensions\n- Better reflects real-world AI deployment success factors\n\n**Regional Insights**:\n- Excellence requires both task sophistication and interaction literacy\n- Collaboration patterns reveal deeper AI understanding than volume alone\n- Sustainable AI advantage comes from balanced capability development\n- Different regional strengths suggest multiple pathways to AI maturity\n\n---\n\n**Methodology Note**: This balanced weighting approach reflects the understanding that AI software development maturity requires both the ability to tackle complex tasks (complexity) and the sophistication to collaborate effectively with AI systems (collaboration), with efficiency as an important but secondary optimization factor."
  }
 ],
 "metadata": {
  "kernelspec": {
   "display_name": "Python 3",
   "language": "python",
   "name": "python3"
  },
  "language_info": {
   "codemirror_mode": {
    "name": "ipython",
    "version": 3
   },
   "file_extension": ".py",
   "mimetype": "text/x-python",
   "name": "python",
   "nbconvert_exporter": "python",
   "pygments_lexer": "ipython3",
   "version": "3.8.5"
  }
 },
 "nbformat": 4,
 "nbformat_minor": 5
}